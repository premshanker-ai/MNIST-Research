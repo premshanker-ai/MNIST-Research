{
  "nbformat": 4,
  "nbformat_minor": 0,
  "metadata": {
    "colab": {
      "name": "MNIST Project.ipynb",
      "provenance": [],
      "collapsed_sections": []
    },
    "kernelspec": {
      "name": "python3",
      "display_name": "Python 3"
    },
    "language_info": {
      "name": "python"
    }
  },
  "cells": [
    {
      "cell_type": "code",
      "metadata": {
        "id": "F0fPDxKRGZ6g"
      },
      "source": [
        "import pandas as pd\n",
        "import numpy as np\n",
        "\n",
        "import matplotlib.pyplot as plt\n",
        "import seaborn as sns\n",
        "\n",
        "from sklearn.model_selection import train_test_split\n",
        "from sklearn.metrics import confusion_matrix\n",
        "\n",
        "from keras.models import Sequential\n",
        "from keras.layers import Conv2D, Lambda, MaxPooling2D # convolution layers\n",
        "from keras.layers import Dense, Dropout, Flatten # core layers\n",
        "from tensorflow.keras.models import Sequential\n",
        "from tensorflow.keras.layers import BatchNormalization\n",
        "\n",
        "from keras.preprocessing.image import ImageDataGenerator\n",
        "\n",
        "from keras.utils.np_utils import to_categorical"
      ],
      "execution_count": 10,
      "outputs": []
    },
    {
      "cell_type": "code",
      "metadata": {
        "id": "lp8BruK4cvWV"
      },
      "source": [
        "import keras"
      ],
      "execution_count": 11,
      "outputs": []
    },
    {
      "cell_type": "code",
      "metadata": {
        "colab": {
          "base_uri": "https://localhost:8080/",
          "height": 0
        },
        "id": "nrqjKEodGfqp",
        "outputId": "4c395c25-5478-4ea6-b08d-ecfce07f1a1a"
      },
      "source": [
        "train_data = pd.read_csv('train.csv')\n",
        "test_data = pd.read_csv('test.csv')\n",
        "sub = pd.read_csv('sample_submission.csv')\n",
        "print(\"All Set!\")"
      ],
      "execution_count": 12,
      "outputs": [
        {
          "output_type": "stream",
          "name": "stdout",
          "text": [
            "All Set!\n"
          ]
        }
      ]
    },
    {
      "cell_type": "code",
      "metadata": {
        "colab": {
          "base_uri": "https://localhost:8080/",
          "height": 0
        },
        "id": "wvk9LJ72Gvtr",
        "outputId": "d72f9885-de86-4bb0-ce86-8ce6017a411f"
      },
      "source": [
        "print(f\"Training data size is {train_data.shape}\\nTesting data size is {test_data.shape}\")\n",
        "#in train data, one of the dimension is the class labels, which is why there are 785 dimiension rather than 784"
      ],
      "execution_count": 13,
      "outputs": [
        {
          "output_type": "stream",
          "name": "stdout",
          "text": [
            "Training data size is (25815, 785)\n",
            "Testing data size is (26424, 784)\n"
          ]
        }
      ]
    },
    {
      "cell_type": "markdown",
      "metadata": {
        "id": "Dgmj88oBHZgo"
      },
      "source": [
        "### Set data features and labels\n",
        "\n"
      ]
    },
    {
      "cell_type": "code",
      "metadata": {
        "id": "Iia9MRd1G564"
      },
      "source": [
        "X = train_data.drop(['label'], 1).values\n",
        "y = train_data['label'].values\n",
        "\n",
        "test_val = test_data.values"
      ],
      "execution_count": 14,
      "outputs": []
    },
    {
      "cell_type": "markdown",
      "metadata": {
        "id": "Z5cYkKQUIMWH"
      },
      "source": [
        "### Normalization"
      ]
    },
    {
      "cell_type": "code",
      "metadata": {
        "id": "o07356BbHfqq"
      },
      "source": [
        "X = X / 255.0\n",
        "test_val = test_val / 255.0"
      ],
      "execution_count": 15,
      "outputs": []
    },
    {
      "cell_type": "markdown",
      "metadata": {
        "id": "8ouGZhbBIjhX"
      },
      "source": [
        "### Reshape"
      ]
    },
    {
      "cell_type": "code",
      "metadata": {
        "id": "5uGszX8wIiz4"
      },
      "source": [
        "# Reshapeing the image in 3 dimensions (height = 28px, width = 28px , canal = 1)\n",
        "# canal = 1 whih is for gray scale\n",
        "X = X.reshape(-1,28,28,1)\n",
        "test_val = test_val.reshape(-1,28,28,1)"
      ],
      "execution_count": 16,
      "outputs": []
    },
    {
      "cell_type": "markdown",
      "metadata": {
        "id": "9JS0n62-I-Aa"
      },
      "source": [
        "### One-Hot Encoding the Labels\n"
      ]
    },
    {
      "cell_type": "code",
      "metadata": {
        "colab": {
          "base_uri": "https://localhost:8080/",
          "height": 0
        },
        "id": "ao-I4T2tIdqb",
        "outputId": "1b843f3a-ea04-4188-a8dd-fe69cb519080"
      },
      "source": [
        "y = to_categorical(y)\n",
        "\n",
        "print(f\"Label size {y.shape}\")"
      ],
      "execution_count": 17,
      "outputs": [
        {
          "output_type": "stream",
          "name": "stdout",
          "text": [
            "Label size (25815, 10)\n"
          ]
        }
      ]
    },
    {
      "cell_type": "markdown",
      "metadata": {
        "id": "nLDizD0KKJFL"
      },
      "source": [
        "### Splitting the data into Train and Validation sets"
      ]
    },
    {
      "cell_type": "code",
      "metadata": {
        "id": "mferIbxmKIrC"
      },
      "source": [
        "X_train, X_test, y_train, y_test = train_test_split(X, y, test_size=0.1, random_state=0)\n"
      ],
      "execution_count": 18,
      "outputs": []
    },
    {
      "cell_type": "code",
      "metadata": {
        "colab": {
          "base_uri": "https://localhost:8080/",
          "height": 0
        },
        "id": "9i8yOOvbJKsX",
        "outputId": "599340e7-c3b5-4e29-afb8-f40f8276b1ba"
      },
      "source": [
        "X_train.shape, X_test.shape, y_train.shape, y_test.shape\n"
      ],
      "execution_count": 19,
      "outputs": [
        {
          "output_type": "execute_result",
          "data": {
            "text/plain": [
              "((23233, 28, 28, 1), (2582, 28, 28, 1), (23233, 10), (2582, 10))"
            ]
          },
          "metadata": {},
          "execution_count": 19
        }
      ]
    },
    {
      "cell_type": "code",
      "metadata": {
        "id": "ooOlutcvKVZu"
      },
      "source": [
        "mean = np.mean(X_train)\n",
        "std = np.std(X_train)\n",
        "\n",
        "def standardize(x):\n",
        "    return (x-mean)/std"
      ],
      "execution_count": 20,
      "outputs": []
    },
    {
      "cell_type": "code",
      "metadata": {
        "id": "Q-Te1YK8KbLt"
      },
      "source": [
        "epochs = 4\n",
        "batch_size = 128"
      ],
      "execution_count": 28,
      "outputs": []
    },
    {
      "cell_type": "markdown",
      "metadata": {
        "id": "eB91pdXsKgHd"
      },
      "source": [
        "CNN Model"
      ]
    },
    {
      "cell_type": "code",
      "metadata": {
        "id": "1igpaeGSKhDe"
      },
      "source": [
        "model=Sequential()\n",
        "\n",
        "model.add(Conv2D(filters=64, \n",
        "                 kernel_size = (3,3), \n",
        "                 activation=\"relu\", \n",
        "                 input_shape=(28,28,1)))\n",
        "\n",
        "model.add(Conv2D(filters=64, \n",
        "                 kernel_size = (3,3), \n",
        "                 activation=\"relu\"))\n",
        "\n",
        "model.add(MaxPooling2D(pool_size=(2,2)))\n",
        "model.add(BatchNormalization())\n",
        "model.add(Conv2D(filters=128, \n",
        "                 kernel_size = (3,3), \n",
        "                 activation=\"relu\"))\n",
        "model.add(Conv2D(filters=128, \n",
        "                 kernel_size = (3,3), \n",
        "                 activation=\"relu\"))\n",
        "#model.add(Conv2D(filters=128, kernel_size = (3,3), activation=\"relu\"))\n",
        "\n",
        "model.add(MaxPooling2D(pool_size=(2,2)))\n",
        "model.add(BatchNormalization())    \n",
        "model.add(Conv2D(filters=256, kernel_size = (3,3), \n",
        "                 activation=\"relu\"))\n",
        "# model.add(Conv2D(filters=256, kernel_size = (3,3), activation=\"relu\"))\n",
        "    \n",
        "model.add(MaxPooling2D(pool_size=(2,2)))\n",
        "    \n",
        "model.add(Flatten())\n",
        "model.add(BatchNormalization())\n",
        "model.add(Dense(512,activation=\"relu\"))\n",
        "    \n",
        "model.add(Dense(10,activation=\"softmax\"))\n",
        "    \n",
        "model.compile(loss=\"categorical_crossentropy\", \n",
        "              optimizer=\"adam\", metrics=[\"accuracy\"])"
      ],
      "execution_count": null,
      "outputs": []
    },
    {
      "cell_type": "code",
      "metadata": {
        "id": "Uxt5lx5bKuYj"
      },
      "source": [
        "#creating more data as the data in the dataset in limited\n",
        "\n",
        "datagenerator = ImageDataGenerator(\n",
        "        featurewise_center=False,  # set input mean to 0 over the dataset\n",
        "        samplewise_center=False,  # set each sample mean to 0\n",
        "        featurewise_std_normalization=False,  # divide inputs by std of the dataset\n",
        "        samplewise_std_normalization=False,  # divide each input by its std\n",
        "        zca_whitening=False,  # apply ZCA whitening\n",
        "        rotation_range=10,  # randomly rotate images in the range (degrees, 0 to 180)\n",
        "        zoom_range = 0.1, # Randomly zoom image \n",
        "        width_shift_range=0.1,  # randomly shift images horizontally (fraction of total width)\n",
        "        height_shift_range=0.1,  # randomly shift images vertically (fraction of total height)\n",
        "        horizontal_flip=False,  # randomly flip images\n",
        "        vertical_flip=False)  # randomly flip images\n",
        "\n",
        "\n",
        "#datagen.fit(X_train)\n",
        "train_gen = datagenerator.flow(X_train, y_train, batch_size=batch_size)\n",
        "test_gen = datagenerator.flow(X_test, y_test, batch_size=batch_size)"
      ],
      "execution_count": 23,
      "outputs": []
    },
    {
      "cell_type": "markdown",
      "metadata": {
        "id": "_c8BrSLnLE9q"
      },
      "source": [
        "Training the model"
      ]
    },
    {
      "cell_type": "code",
      "metadata": {
        "colab": {
          "base_uri": "https://localhost:8080/"
        },
        "id": "xtd5u5KkLC71",
        "outputId": "cbf15505-65e2-47a3-c5f1-1c29cce2cda5"
      },
      "source": [
        "history = model.fit(train_gen, \n",
        "                              epochs = epochs, \n",
        "                              steps_per_epoch = X_train.shape[0] // batch_size,\n",
        "                              validation_data = test_gen,\n",
        "                              validation_steps = X_test.shape[0] // batch_size)\n"
      ],
      "execution_count": null,
      "outputs": [
        {
          "output_type": "stream",
          "name": "stdout",
          "text": [
            "Epoch 1/20\n",
            "295/295 [==============================] - 303s 1s/step - loss: 0.1567 - accuracy: 0.9511 - val_loss: 1.8796 - val_accuracy: 0.4001\n",
            "Epoch 2/20\n",
            "295/295 [==============================] - 301s 1s/step - loss: 0.0608 - accuracy: 0.9803 - val_loss: 0.0779 - val_accuracy: 0.9746\n",
            "Epoch 3/20\n",
            "295/295 [==============================] - 303s 1s/step - loss: 0.0463 - accuracy: 0.9860 - val_loss: 0.0630 - val_accuracy: 0.9795\n",
            "Epoch 4/20\n",
            "295/295 [==============================] - 301s 1s/step - loss: 0.0438 - accuracy: 0.9872 - val_loss: 0.0480 - val_accuracy: 0.9844\n",
            "Epoch 5/20\n",
            "295/295 [==============================] - 302s 1s/step - loss: 0.0375 - accuracy: 0.9879 - val_loss: 0.0541 - val_accuracy: 0.9844\n",
            "Epoch 6/20\n",
            "295/295 [==============================] - 306s 1s/step - loss: 0.0385 - accuracy: 0.9878 - val_loss: 0.0683 - val_accuracy: 0.9807\n",
            "Epoch 7/20\n",
            "295/295 [==============================] - 307s 1s/step - loss: 0.0298 - accuracy: 0.9908 - val_loss: 0.0575 - val_accuracy: 0.9851\n",
            "Epoch 8/20\n",
            "295/295 [==============================] - 301s 1s/step - loss: 0.0328 - accuracy: 0.9898 - val_loss: 0.0454 - val_accuracy: 0.9839\n",
            "Epoch 9/20\n",
            "295/295 [==============================] - 305s 1s/step - loss: 0.0237 - accuracy: 0.9925 - val_loss: 0.0359 - val_accuracy: 0.9897\n",
            "Epoch 10/20\n",
            "295/295 [==============================] - 299s 1s/step - loss: 0.0249 - accuracy: 0.9930 - val_loss: 0.0416 - val_accuracy: 0.9885\n",
            "Epoch 11/20\n",
            "295/295 [==============================] - 304s 1s/step - loss: 0.0236 - accuracy: 0.9926 - val_loss: 0.0414 - val_accuracy: 0.9873\n",
            "Epoch 12/20\n",
            "295/295 [==============================] - 307s 1s/step - loss: 0.0258 - accuracy: 0.9922 - val_loss: 0.0429 - val_accuracy: 0.9866\n",
            "Epoch 13/20\n",
            "295/295 [==============================] - 302s 1s/step - loss: 0.0232 - accuracy: 0.9929 - val_loss: 0.0385 - val_accuracy: 0.9880\n",
            "Epoch 14/20\n",
            "295/295 [==============================] - 304s 1s/step - loss: 0.0215 - accuracy: 0.9932 - val_loss: 0.0411 - val_accuracy: 0.9873\n",
            "Epoch 15/20\n",
            "295/295 [==============================] - 305s 1s/step - loss: 0.0209 - accuracy: 0.9938 - val_loss: 0.0351 - val_accuracy: 0.9893\n",
            "Epoch 16/20\n",
            "295/295 [==============================] - 303s 1s/step - loss: 0.0226 - accuracy: 0.9933 - val_loss: 0.0533 - val_accuracy: 0.9846\n",
            "Epoch 17/20\n",
            "295/295 [==============================] - 299s 1s/step - loss: 0.0193 - accuracy: 0.9940 - val_loss: 0.0382 - val_accuracy: 0.9885\n",
            "Epoch 18/20\n",
            "295/295 [==============================] - 305s 1s/step - loss: 0.0201 - accuracy: 0.9939 - val_loss: 0.0288 - val_accuracy: 0.9915\n",
            "Epoch 19/20\n",
            "295/295 [==============================] - 305s 1s/step - loss: 0.0187 - accuracy: 0.9943 - val_loss: 0.0308 - val_accuracy: 0.9910\n",
            "Epoch 20/20\n",
            "295/295 [==============================] - 301s 1s/step - loss: 0.0151 - accuracy: 0.9955 - val_loss: 0.0384 - val_accuracy: 0.9900\n"
          ]
        }
      ]
    },
    {
      "cell_type": "code",
      "metadata": {
        "colab": {
          "base_uri": "https://localhost:8080/",
          "height": 592
        },
        "id": "QAG4N17ILMg1",
        "outputId": "4a2545a6-e1ff-422a-f873-8b51eeeb6a06"
      },
      "source": [
        "# Plot the loss and accuracy curves for training and validation \n",
        "fig, ax = plt.subplots(2,1, figsize=(18, 10))\n",
        "ax[0].plot(history.history['loss'], color='b', label=\"Training loss\")\n",
        "ax[0].plot(history.history['val_loss'], color='r', label=\"validation loss\",axes =ax[0])\n",
        "legend = ax[0].legend(loc='best', shadow=True)\n",
        "\n",
        "ax[1].plot(history.history['accuracy'], color='b', label=\"Training accuracy\")\n",
        "ax[1].plot(history.history['val_accuracy'], color='r',label=\"Validation accuracy\")\n",
        "legend = ax[1].legend(loc='best', shadow=True)"
      ],
      "execution_count": null,
      "outputs": [
        {
          "output_type": "display_data",
          "data": {
            "image/png": "[encoded data removed]",
            "text/plain": [
              "<Figure size 1296x720 with 2 Axes>"
            ]
          },
          "metadata": {
            "needs_background": "light"
          }
        }
      ]
    },
    {
      "cell_type": "markdown",
      "metadata": {
        "id": "TVyFos3cdz2x"
      },
      "source": [
        "Loss Function :categorical_crossentropy\n"
      ]
    },
    {
      "cell_type": "code",
      "metadata": {
        "id": "kPtQOWxddvhQ"
      },
      "source": [
        "model_loss1=Sequential()\n",
        "\n",
        "model_loss1.add(Conv2D(filters=64, kernel_size = (3,3), activation=\"relu\", input_shape=(28,28,1)))\n",
        "model_loss1.add(Conv2D(filters=64, kernel_size = (3,3), activation=\"relu\"))\n",
        "\n",
        "model_loss1.add(MaxPooling2D(pool_size=(2,2)))\n",
        "model_loss1.add(BatchNormalization())\n",
        "model_loss1.add(Conv2D(filters=128, kernel_size = (3,3), activation=\"relu\"))\n",
        "model_loss1.add(Conv2D(filters=128, kernel_size = (3,3), activation=\"relu\"))\n",
        "#model.add(Conv2D(filters=128, kernel_size = (3,3), activation=\"relu\"))\n",
        "\n",
        "model_loss1.add(MaxPooling2D(pool_size=(2,2)))\n",
        "model_loss1.add(BatchNormalization())    \n",
        "model_loss1.add(Conv2D(filters=256, kernel_size = (3,3), activation=\"relu\"))\n",
        "# model.add(Conv2D(filters=256, kernel_size = (3,3), activation=\"relu\"))\n",
        "    \n",
        "model_loss1.add(MaxPooling2D(pool_size=(2,2)))\n",
        "    \n",
        "model_loss1.add(Flatten())\n",
        "model_loss1.add(BatchNormalization())\n",
        "model_loss1.add(Dense(512,activation=\"relu\"))\n",
        "    \n",
        "model_loss1.add(Dense(10,activation=\"softmax\"))\n",
        "    \n",
        "model_loss1.compile(loss=\"categorical_crossentropy\", optimizer=\"adam\", metrics=[\"accuracy\"])"
      ],
      "execution_count": 29,
      "outputs": []
    },
    {
      "cell_type": "code",
      "metadata": {
        "colab": {
          "base_uri": "https://localhost:8080/",
          "height": 0
        },
        "id": "4lhRA7vedvW1",
        "outputId": "667429ba-2b30-4914-a0f9-e5b61cd39100"
      },
      "source": [
        "history = model_loss1.fit(train_gen, \n",
        "                              epochs = epochs, \n",
        "                              steps_per_epoch = X_train.shape[0] // batch_size,\n",
        "                              validation_data = test_gen,\n",
        "                              validation_steps = X_test.shape[0] // batch_size)\n"
      ],
      "execution_count": 30,
      "outputs": [
        {
          "output_type": "stream",
          "name": "stdout",
          "text": [
            "Epoch 1/4\n",
            "181/181 [==============================] - 180s 991ms/step - loss: 0.1894 - accuracy: 0.9416 - val_loss: nan - val_accuracy: 0.3344\n",
            "Epoch 2/4\n",
            "181/181 [==============================] - 179s 990ms/step - loss: 0.0753 - accuracy: 0.9757 - val_loss: nan - val_accuracy: 0.8441\n",
            "Epoch 3/4\n",
            "181/181 [==============================] - 179s 990ms/step - loss: 0.0584 - accuracy: 0.9810 - val_loss: nan - val_accuracy: 0.9605\n",
            "Epoch 4/4\n",
            "181/181 [==============================] - 179s 990ms/step - loss: 0.0498 - accuracy: 0.9842 - val_loss: 0.0782 - val_accuracy: 0.9777\n"
          ]
        }
      ]
    },
    {
      "cell_type": "markdown",
      "metadata": {
        "id": "A5LoEui9eVVU"
      },
      "source": [
        "Loss function: Mean square error\n",
        "\n",
        "\n"
      ]
    },
    {
      "cell_type": "code",
      "metadata": {
        "id": "J-1EkCk-eTQ0"
      },
      "source": [
        "model_loss2=Sequential()\n",
        "\n",
        "model_loss2.add(Conv2D(filters=64, kernel_size = (3,3), activation=\"relu\", input_shape=(28,28,1)))\n",
        "model_loss2.add(Conv2D(filters=64, kernel_size = (3,3), activation=\"relu\"))\n",
        "\n",
        "model_loss2.add(MaxPooling2D(pool_size=(2,2)))\n",
        "model_loss2.add(BatchNormalization())\n",
        "model_loss2.add(Conv2D(filters=128, kernel_size = (3,3), activation=\"relu\"))\n",
        "model_loss2.add(Conv2D(filters=128, kernel_size = (3,3), activation=\"relu\"))\n",
        "#model.add(Conv2D(filters=128, kernel_size = (3,3), activation=\"relu\"))\n",
        "\n",
        "model_loss2.add(MaxPooling2D(pool_size=(2,2)))\n",
        "model_loss2.add(BatchNormalization())    \n",
        "model_loss2.add(Conv2D(filters=256, kernel_size = (3,3), activation=\"relu\"))\n",
        "# model.add(Conv2D(filters=256, kernel_size = (3,3), activation=\"relu\"))\n",
        "    \n",
        "model_loss2.add(MaxPooling2D(pool_size=(2,2)))\n",
        "    \n",
        "model_loss2.add(Flatten())\n",
        "model_loss2.add(BatchNormalization())\n",
        "model_loss2.add(Dense(512,activation=\"relu\"))\n",
        "    \n",
        "model_loss2.add(Dense(10,activation=\"softmax\"))\n",
        "    \n",
        "model_loss2.compile(loss=\"MeanSquaredError\", optimizer=\"adam\", metrics=[\"accuracy\"])"
      ],
      "execution_count": 32,
      "outputs": []
    },
    {
      "cell_type": "code",
      "metadata": {
        "colab": {
          "base_uri": "https://localhost:8080/",
          "height": 0
        },
        "id": "S1mhFjPYfPwk",
        "outputId": "caf21872-4b0a-42e0-dee5-81889452015c"
      },
      "source": [
        "history_loss2 = model_loss2.fit(train_gen, \n",
        "                              epochs = epochs, \n",
        "                              steps_per_epoch = X_train.shape[0] // batch_size,\n",
        "                              validation_data = test_gen,\n",
        "                              validation_steps = X_test.shape[0] // batch_size)\n"
      ],
      "execution_count": 33,
      "outputs": [
        {
          "output_type": "stream",
          "name": "stdout",
          "text": [
            "Epoch 1/4\n",
            "181/181 [==============================] - 181s 996ms/step - loss: 0.0103 - accuracy: 0.9290 - val_loss: nan - val_accuracy: 0.2086\n",
            "Epoch 2/4\n",
            "181/181 [==============================] - 180s 992ms/step - loss: 0.0042 - accuracy: 0.9734 - val_loss: 0.0203 - val_accuracy: 0.9008\n",
            "Epoch 3/4\n",
            "181/181 [==============================] - 182s 1s/step - loss: 0.0034 - accuracy: 0.9780 - val_loss: nan - val_accuracy: 0.9582\n",
            "Epoch 4/4\n",
            "181/181 [==============================] - 182s 1s/step - loss: 0.0032 - accuracy: 0.9802 - val_loss: nan - val_accuracy: 0.9711\n"
          ]
        }
      ]
    },
    {
      "cell_type": "markdown",
      "metadata": {
        "id": "5vGUfycyfXU8"
      },
      "source": [
        "Loss function: Huber\n",
        "\n"
      ]
    },
    {
      "cell_type": "code",
      "metadata": {
        "id": "P3kSNkqBfWzT"
      },
      "source": [
        "model_loss3=Sequential()\n",
        "\n",
        "model_loss3.add(Conv2D(filters=64, kernel_size = (3,3), activation=\"relu\", input_shape=(28,28,1)))\n",
        "model_loss3.add(Conv2D(filters=64, kernel_size = (3,3), activation=\"relu\"))\n",
        "\n",
        "model_loss3.add(MaxPooling2D(pool_size=(2,2)))\n",
        "model_loss3.add(BatchNormalization())\n",
        "model_loss3.add(Conv2D(filters=128, kernel_size = (3,3), activation=\"relu\"))\n",
        "model_loss3.add(Conv2D(filters=128, kernel_size = (3,3), activation=\"relu\"))\n",
        "#model.add(Conv2D(filters=128, kernel_size = (3,3), activation=\"relu\"))\n",
        "\n",
        "model_loss3.add(MaxPooling2D(pool_size=(2,2)))\n",
        "model_loss3.add(BatchNormalization())    \n",
        "model_loss3.add(Conv2D(filters=256, kernel_size = (3,3), activation=\"relu\"))\n",
        "# model.add(Conv2D(filters=256, kernel_size = (3,3), activation=\"relu\"))\n",
        "    \n",
        "model_loss3.add(MaxPooling2D(pool_size=(2,2)))\n",
        "    \n",
        "model_loss3.add(Flatten())\n",
        "model_loss3.add(BatchNormalization())\n",
        "model_loss3.add(Dense(512,activation=\"relu\"))\n",
        "    \n",
        "model_loss3.add(Dense(10,activation=\"softmax\"))\n",
        "    \n",
        "model_loss3.compile(loss=\"Huber\", optimizer=\"adam\", metrics=[\"accuracy\"])"
      ],
      "execution_count": 38,
      "outputs": []
    },
    {
      "cell_type": "code",
      "metadata": {
        "colab": {
          "base_uri": "https://localhost:8080/",
          "height": 0
        },
        "id": "c0mJ32CffwaL",
        "outputId": "ee5847e9-0bda-4897-a517-890c5902344e"
      },
      "source": [
        "history_loss3 = model_loss3.fit(train_gen, \n",
        "                              epochs = epochs, \n",
        "                              steps_per_epoch = X_train.shape[0] // batch_size,\n",
        "                              validation_data = test_gen,\n",
        "                              validation_steps = X_test.shape[0] // batch_size)\n"
      ],
      "execution_count": 39,
      "outputs": [
        {
          "output_type": "stream",
          "name": "stdout",
          "text": [
            "Epoch 1/4\n",
            "181/181 [==============================] - 181s 993ms/step - loss: 0.0053 - accuracy: 0.9269 - val_loss: nan - val_accuracy: 0.2754\n",
            "Epoch 2/4\n",
            "181/181 [==============================] - 180s 992ms/step - loss: 0.0024 - accuracy: 0.9692 - val_loss: nan - val_accuracy: 0.8633\n",
            "Epoch 3/4\n",
            "181/181 [==============================] - 183s 1s/step - loss: 0.0019 - accuracy: 0.9760 - val_loss: nan - val_accuracy: 0.9727\n",
            "Epoch 4/4\n",
            "181/181 [==============================] - 185s 1s/step - loss: 0.0016 - accuracy: 0.9797 - val_loss: 0.0017 - val_accuracy: 0.9758\n"
          ]
        }
      ]
    },
    {
      "cell_type": "code",
      "metadata": {
        "colab": {
          "base_uri": "https://localhost:8080/",
          "height": 350
        },
        "id": "VkZOnnfcqgUh",
        "outputId": "853e1f86-edeb-4d77-f2e6-6ca92916e6be"
      },
      "source": [
        "# PLOT Losses\n",
        "history_loss =[history, history_loss2, history_loss3 ]\n",
        "names_loss=['categorical_crossentropy','Mean square error','Huber']\n",
        "plt.figure(figsize=(15,5))\n",
        "styles = ['-', '--', ':', '-.']\n",
        "for i in range(3):\n",
        "    plt.plot(history_loss[i].history['val_accuracy'],linestyle=styles[i])\n",
        "plt.title('Loss')\n",
        "plt.ylabel('accuracy')\n",
        "plt.xlabel('epoch')\n",
        "plt.legend(names_loss, loc='upper left')\n",
        "axes = plt.gca()\n",
        "axes.set_ylim([0.95,1])\n",
        "plt.show()"
      ],
      "execution_count": 72,
      "outputs": [
        {
          "output_type": "display_data",
          "data": {
            "image/png": "[encoded data removed]",
            "text/plain": [
              "<Figure size 1080x360 with 1 Axes>"
            ]
          },
          "metadata": {
            "needs_background": "light"
          }
        }
      ]
    },
    {
      "cell_type": "markdown",
      "metadata": {
        "id": "RibEmupctG60"
      },
      "source": [
        "Optimizers"
      ]
    },
    {
      "cell_type": "code",
      "metadata": {
        "id": "aGFC7V6KtGxf"
      },
      "source": [
        "model_opt1=Sequential()\n",
        "\n",
        "model_opt1.add(Conv2D(filters=64, kernel_size = (3,3), activation=\"relu\", input_shape=(28,28,1)))\n",
        "model_opt1.add(Conv2D(filters=64, kernel_size = (3,3), activation=\"relu\"))\n",
        "\n",
        "model_opt1.add(MaxPooling2D(pool_size=(2,2)))\n",
        "model_opt1.add(BatchNormalization())\n",
        "model_opt1.add(Conv2D(filters=128, kernel_size = (3,3), activation=\"relu\"))\n",
        "model_opt1.add(Conv2D(filters=128, kernel_size = (3,3), activation=\"relu\"))\n",
        "#model.add(Conv2D(filters=128, kernel_size = (3,3), activation=\"relu\"))\n",
        "\n",
        "model_opt1.add(MaxPooling2D(pool_size=(2,2)))\n",
        "model_opt1.add(BatchNormalization())    \n",
        "model_opt1.add(Conv2D(filters=256, kernel_size = (3,3), activation=\"relu\"))\n",
        "# model.add(Conv2D(filters=256, kernel_size = (3,3), activation=\"relu\"))\n",
        "    \n",
        "model_opt1.add(MaxPooling2D(pool_size=(2,2)))\n",
        "    \n",
        "model_opt1.add(Flatten())\n",
        "model_opt1.add(BatchNormalization())\n",
        "model_opt1.add(Dense(512,activation=\"relu\"))\n",
        "    \n",
        "model_opt1.add(Dense(10,activation=\"softmax\"))\n",
        "    \n",
        "model_opt1.compile(loss=\"categorical_crossentropy\", optimizer=\"adam\", metrics=[\"accuracy\"])"
      ],
      "execution_count": 46,
      "outputs": []
    },
    {
      "cell_type": "code",
      "metadata": {
        "colab": {
          "base_uri": "https://localhost:8080/",
          "height": 0
        },
        "id": "wRB8kNnntUr-",
        "outputId": "aeda6264-538d-44ad-9c1d-26a93bd8b6d1"
      },
      "source": [
        "history_opt1 = model_opt1.fit(train_gen, \n",
        "                              epochs = epochs, \n",
        "                              steps_per_epoch = X_train.shape[0] // batch_size,\n",
        "                              validation_data = test_gen,\n",
        "                              validation_steps = X_test.shape[0] // batch_size)\n"
      ],
      "execution_count": 47,
      "outputs": [
        {
          "output_type": "stream",
          "name": "stdout",
          "text": [
            "Epoch 1/4\n",
            "181/181 [==============================] - 181s 995ms/step - loss: 0.2118 - accuracy: 0.9339 - val_loss: nan - val_accuracy: 0.0926\n",
            "Epoch 2/4\n",
            "181/181 [==============================] - 180s 993ms/step - loss: 0.0788 - accuracy: 0.9761 - val_loss: 0.6524 - val_accuracy: 0.7727\n",
            "Epoch 3/4\n",
            "181/181 [==============================] - 180s 996ms/step - loss: 0.0583 - accuracy: 0.9817 - val_loss: 0.0933 - val_accuracy: 0.9750\n",
            "Epoch 4/4\n",
            "181/181 [==============================] - 181s 1000ms/step - loss: 0.0481 - accuracy: 0.9850 - val_loss: 0.0694 - val_accuracy: 0.9785\n"
          ]
        }
      ]
    },
    {
      "cell_type": "code",
      "metadata": {
        "id": "6jA_GBBBwX8P"
      },
      "source": [
        "model_opt2=Sequential()\n",
        "\n",
        "model_opt2.add(Conv2D(filters=64, kernel_size = (3,3), activation=\"relu\", input_shape=(28,28,1)))\n",
        "model_opt2.add(Conv2D(filters=64, kernel_size = (3,3), activation=\"relu\"))\n",
        "\n",
        "model_opt2.add(MaxPooling2D(pool_size=(2,2)))\n",
        "model_opt2.add(BatchNormalization())\n",
        "model_opt2.add(Conv2D(filters=128, kernel_size = (3,3), activation=\"relu\"))\n",
        "model_opt2.add(Conv2D(filters=128, kernel_size = (3,3), activation=\"relu\"))\n",
        "#model.add(Conv2D(filters=128, kernel_size = (3,3), activation=\"relu\"))\n",
        "\n",
        "model_opt2.add(MaxPooling2D(pool_size=(2,2)))\n",
        "model_opt2.add(BatchNormalization())    \n",
        "model_opt2.add(Conv2D(filters=256, kernel_size = (3,3), activation=\"relu\"))\n",
        "# model.add(Conv2D(filters=256, kernel_size = (3,3), activation=\"relu\"))\n",
        "    \n",
        "model_opt2.add(MaxPooling2D(pool_size=(2,2)))\n",
        "    \n",
        "model_opt2.add(Flatten())\n",
        "model_opt2.add(BatchNormalization())\n",
        "model_opt2.add(Dense(512,activation=\"relu\"))\n",
        "    \n",
        "model_opt2.add(Dense(10,activation=\"softmax\"))\n",
        "    \n",
        "model_opt2.compile(loss=\"categorical_crossentropy\", optimizer=\"SGD\", metrics=[\"accuracy\"])"
      ],
      "execution_count": 50,
      "outputs": []
    },
    {
      "cell_type": "code",
      "metadata": {
        "colab": {
          "base_uri": "https://localhost:8080/",
          "height": 0
        },
        "id": "CbMmPibDwfZf",
        "outputId": "f690d6e2-0cd5-4d49-8eca-88a6b92beb14"
      },
      "source": [
        "history_opt2 = model_opt2.fit(train_gen, \n",
        "                              epochs = epochs, \n",
        "                              steps_per_epoch = X_train.shape[0] // batch_size,\n",
        "                              validation_data = test_gen,\n",
        "                              validation_steps = X_test.shape[0] // batch_size)\n"
      ],
      "execution_count": 51,
      "outputs": [
        {
          "output_type": "stream",
          "name": "stdout",
          "text": [
            "Epoch 1/4\n",
            "181/181 [==============================] - 181s 995ms/step - loss: 0.5441 - accuracy: 0.8601 - val_loss: nan - val_accuracy: 0.1141\n",
            "Epoch 2/4\n",
            "181/181 [==============================] - 180s 994ms/step - loss: 0.1982 - accuracy: 0.9498 - val_loss: 2.0554 - val_accuracy: 0.2492\n",
            "Epoch 3/4\n",
            "181/181 [==============================] - 182s 1s/step - loss: 0.1416 - accuracy: 0.9631 - val_loss: nan - val_accuracy: 0.8984\n",
            "Epoch 4/4\n",
            "181/181 [==============================] - 181s 1s/step - loss: 0.1123 - accuracy: 0.9706 - val_loss: 0.1623 - val_accuracy: 0.9602\n"
          ]
        }
      ]
    },
    {
      "cell_type": "code",
      "metadata": {
        "id": "QIQFo82s1uX2"
      },
      "source": [
        "model_opt3=Sequential()\n",
        "\n",
        "model_opt3.add(Conv2D(filters=64, kernel_size = (3,3), activation=\"relu\", input_shape=(28,28,1)))\n",
        "model_opt3.add(Conv2D(filters=64, kernel_size = (3,3), activation=\"relu\"))\n",
        "\n",
        "model_opt3.add(MaxPooling2D(pool_size=(2,2)))\n",
        "model_opt3.add(BatchNormalization())\n",
        "model_opt3.add(Conv2D(filters=128, kernel_size = (3,3), activation=\"relu\"))\n",
        "model_opt3.add(Conv2D(filters=128, kernel_size = (3,3), activation=\"relu\"))\n",
        "#model.add(Conv2D(filters=128, kernel_size = (3,3), activation=\"relu\"))\n",
        "\n",
        "model_opt3.add(MaxPooling2D(pool_size=(2,2)))\n",
        "model_opt3.add(BatchNormalization())    \n",
        "model_opt3.add(Conv2D(filters=256, kernel_size = (3,3), activation=\"relu\"))\n",
        "# model.add(Conv2D(filters=256, kernel_size = (3,3), activation=\"relu\"))\n",
        "    \n",
        "model_opt3.add(MaxPooling2D(pool_size=(2,2)))\n",
        "    \n",
        "model_opt3.add(Flatten())\n",
        "model_opt3.add(BatchNormalization())\n",
        "model_opt3.add(Dense(512,activation=\"relu\"))\n",
        "    \n",
        "model_opt3.add(Dense(10,activation=\"softmax\"))\n",
        "    \n",
        "model_opt3.compile(loss=\"categorical_crossentropy\", optimizer=\"RMSprop\", metrics=[\"accuracy\"])"
      ],
      "execution_count": 52,
      "outputs": []
    },
    {
      "cell_type": "code",
      "metadata": {
        "colab": {
          "base_uri": "https://localhost:8080/",
          "height": 0
        },
        "id": "pr78EEUK2CGy",
        "outputId": "2033892a-9765-4990-bae3-095906e5485a"
      },
      "source": [
        "history_opt3 = model_opt3.fit(train_gen, \n",
        "                              epochs = epochs, \n",
        "                              steps_per_epoch = X_train.shape[0] // batch_size,\n",
        "                              validation_data = test_gen,\n",
        "                              validation_steps = X_test.shape[0] // batch_size)\n"
      ],
      "execution_count": 53,
      "outputs": [
        {
          "output_type": "stream",
          "name": "stdout",
          "text": [
            "Epoch 1/4\n",
            "181/181 [==============================] - 190s 1s/step - loss: 0.2154 - accuracy: 0.9321 - val_loss: nan - val_accuracy: 0.1195\n",
            "Epoch 2/4\n",
            "181/181 [==============================] - 187s 1s/step - loss: 0.0848 - accuracy: 0.9731 - val_loss: nan - val_accuracy: 0.3695\n",
            "Epoch 3/4\n",
            "181/181 [==============================] - 184s 1s/step - loss: 0.0674 - accuracy: 0.9797 - val_loss: nan - val_accuracy: 0.9660\n",
            "Epoch 4/4\n",
            "181/181 [==============================] - 183s 1s/step - loss: 0.0532 - accuracy: 0.9849 - val_loss: nan - val_accuracy: 0.9672\n"
          ]
        }
      ]
    },
    {
      "cell_type": "code",
      "metadata": {
        "colab": {
          "base_uri": "https://localhost:8080/",
          "height": 350
        },
        "id": "SwntUGqzAPsa",
        "outputId": "d89fc9ba-84f1-409c-ccec-4db77c536f8f"
      },
      "source": [
        "# PLOT Losses\n",
        "history_opt =[history_opt1, history_opt2, history_opt3 ]\n",
        "names_opt=['Adamn','SGD','RMSprop']\n",
        "plt.figure(figsize=(15,5))\n",
        "styles = ['-', '--', ':', '-.']\n",
        "for i in range(3):\n",
        "    plt.plot(history_opt[i].history['val_accuracy'],linestyle=styles[i])\n",
        "plt.title('Optimizers')\n",
        "plt.ylabel('Accuracy')\n",
        "plt.xlabel('epoch')\n",
        "plt.legend(names_opt, loc='upper left')\n",
        "axes = plt.gca()\n",
        "axes.set_ylim([0.95,1])\n",
        "plt.show()"
      ],
      "execution_count": 73,
      "outputs": [
        {
          "output_type": "display_data",
          "data": {
            "image/png": "[encoded data removed]",
            "text/plain": [
              "<Figure size 1080x360 with 1 Axes>"
            ]
          },
          "metadata": {
            "needs_background": "light"
          }
        }
      ]
    },
    {
      "cell_type": "markdown",
      "metadata": {
        "id": "JsJv2HpTcZiU"
      },
      "source": [
        "Model 1- Lenet"
      ]
    },
    {
      "cell_type": "code",
      "metadata": {
        "id": "ygAmBlr1iPIj"
      },
      "source": [
        "lenet_5_model = keras.models.Sequential([\n",
        "    keras.layers.Conv2D(6, kernel_size=5, strides=1,  activation='tanh', input_shape=X_train[0].shape, padding='same'), #C1\n",
        "    keras.layers.AveragePooling2D(), #S2\n",
        "    keras.layers.Conv2D(16, kernel_size=5, strides=1, activation='tanh', padding='valid'), #C3\n",
        "    keras.layers.AveragePooling2D(), #S4\n",
        "    keras.layers.Flatten(), #Flatten\n",
        "    keras.layers.Dense(120, activation='tanh'), #C5\n",
        "    keras.layers.Dense(84, activation='tanh'), #F6\n",
        "    keras.layers.Dense(10, activation='softmax') #Output layer\n",
        "])\n",
        "lenet_5_model.compile(loss=\"categorical_crossentropy\", optimizer=\"Adam\", metrics=[\"accuracy\"])"
      ],
      "execution_count": 60,
      "outputs": []
    },
    {
      "cell_type": "code",
      "metadata": {
        "colab": {
          "base_uri": "https://localhost:8080/",
          "height": 0
        },
        "id": "v-6ZDUE1cqMr",
        "outputId": "04c45a47-5392-4dbd-a3d0-948e43af6fa8"
      },
      "source": [
        "history_1 = lenet_5_model.fit(train_gen, \n",
        "                              epochs = epochs, \n",
        "                              steps_per_epoch = X_train.shape[0] // batch_size,\n",
        "                              validation_data = test_gen,\n",
        "                              validation_steps = X_test.shape[0] // batch_size)\n"
      ],
      "execution_count": 61,
      "outputs": [
        {
          "output_type": "stream",
          "name": "stdout",
          "text": [
            "Epoch 1/4\n",
            "181/181 [==============================] - 23s 120ms/step - loss: 1.0940 - accuracy: 0.6538 - val_loss: nan - val_accuracy: 0.7977\n",
            "Epoch 2/4\n",
            "181/181 [==============================] - 19s 105ms/step - loss: 0.4887 - accuracy: 0.8551 - val_loss: nan - val_accuracy: 0.8895\n",
            "Epoch 3/4\n",
            "181/181 [==============================] - 19s 105ms/step - loss: 0.2986 - accuracy: 0.9120 - val_loss: nan - val_accuracy: 0.9242\n",
            "Epoch 4/4\n",
            "181/181 [==============================] - 19s 107ms/step - loss: 0.2208 - accuracy: 0.9321 - val_loss: nan - val_accuracy: 0.9395\n"
          ]
        }
      ]
    },
    {
      "cell_type": "code",
      "metadata": {
        "id": "KCUWmPgedi0a"
      },
      "source": [
        "model2=Sequential()\n",
        "\n",
        "model2.add(Conv2D(filters=64, kernel_size = (3,3), activation=\"relu\", input_shape=(28,28,1)))\n",
        "model2.add(Conv2D(filters=64, kernel_size = (3,3), activation=\"relu\"))\n",
        "\n",
        "model2.add(MaxPooling2D(pool_size=(2,2)))\n",
        "model2.add(BatchNormalization())\n",
        "model2.add(Conv2D(filters=128, kernel_size = (3,3), activation=\"relu\"))\n",
        "model2.add(Conv2D(filters=128, kernel_size = (3,3), activation=\"relu\"))\n",
        "#model.add(Conv2D(filters=128, kernel_size = (3,3), activation=\"relu\"))\n",
        "\n",
        "model2.add(MaxPooling2D(pool_size=(2,2)))\n",
        "model2.add(BatchNormalization())    \n",
        "model2.add(Conv2D(filters=256, kernel_size = (3,3), activation=\"relu\"))\n",
        "# model.add(Conv2D(filters=256, kernel_size = (3,3), activation=\"relu\"))\n",
        "    \n",
        "model2.add(MaxPooling2D(pool_size=(2,2)))\n",
        "    \n",
        "model2.add(Flatten())\n",
        "model2.add(BatchNormalization())\n",
        "model2.add(Dense(512,activation=\"relu\"))\n",
        "    \n",
        "model2.add(Dense(10,activation=\"softmax\"))\n",
        "    \n",
        "model2.compile(loss=\"categorical_crossentropy\", optimizer=\"Adam\", metrics=[\"accuracy\"])"
      ],
      "execution_count": 64,
      "outputs": []
    },
    {
      "cell_type": "code",
      "metadata": {
        "colab": {
          "base_uri": "https://localhost:8080/",
          "height": 0
        },
        "id": "yiBOtXbnE1D2",
        "outputId": "646ad85e-8089-4863-8103-b730d53dc5a9"
      },
      "source": [
        "history_2 = model2.fit(train_gen, \n",
        "                              epochs = epochs, \n",
        "                              steps_per_epoch = X_train.shape[0] // batch_size,\n",
        "                              validation_data = test_gen,\n",
        "                              validation_steps = X_test.shape[0] // batch_size)\n"
      ],
      "execution_count": 65,
      "outputs": [
        {
          "output_type": "stream",
          "name": "stdout",
          "text": [
            "Epoch 1/4\n",
            "181/181 [==============================] - 184s 1s/step - loss: 0.2027 - accuracy: 0.9363 - val_loss: nan - val_accuracy: 0.1152\n",
            "Epoch 2/4\n",
            "181/181 [==============================] - 184s 1s/step - loss: 0.0796 - accuracy: 0.9753 - val_loss: nan - val_accuracy: 0.5539\n",
            "Epoch 3/4\n",
            "181/181 [==============================] - 183s 1s/step - loss: 0.0592 - accuracy: 0.9810 - val_loss: 0.0785 - val_accuracy: 0.9758\n",
            "Epoch 4/4\n",
            "181/181 [==============================] - 182s 1s/step - loss: 0.0482 - accuracy: 0.9855 - val_loss: nan - val_accuracy: 0.9852\n"
          ]
        }
      ]
    },
    {
      "cell_type": "markdown",
      "metadata": {
        "id": "X6SnGKQ6IbWI"
      },
      "source": [
        ""
      ]
    },
    {
      "cell_type": "code",
      "metadata": {
        "colab": {
          "base_uri": "https://localhost:8080/",
          "height": 350
        },
        "id": "Nly9iFjvITpq",
        "outputId": "8ef903d3-3b32-4601-d47c-9fc6a8e5e174"
      },
      "source": [
        "# PLOT Losses\n",
        "history_mod =[history_1, history_2]\n",
        "names_opt=['Lenet','Our model']\n",
        "plt.figure(figsize=(15,5))\n",
        "styles = ['-', '--', ':', '-.']\n",
        "for i in range(2):\n",
        "    plt.plot(history_mod[i].history['val_accuracy'],linestyle=styles[i])\n",
        "plt.title('Model')\n",
        "plt.ylabel('Accuracy')\n",
        "plt.xlabel('epoch')\n",
        "plt.legend(names_opt, loc='upper left')\n",
        "axes = plt.gca()\n",
        "axes.set_ylim([0.90,1])\n",
        "plt.show()"
      ],
      "execution_count": 74,
      "outputs": [
        {
          "output_type": "display_data",
          "data": {
            "image/png": "[encoded data removed]",
            "text/plain": [
              "<Figure size 1080x360 with 1 Axes>"
            ]
          },
          "metadata": {
            "needs_background": "light"
          }
        }
      ]
    },
    {
      "cell_type": "code",
      "metadata": {
        "id": "1bUaoCmIIoQg"
      },
      "source": [
        ""
      ],
      "execution_count": null,
      "outputs": []
    }
  ]
}